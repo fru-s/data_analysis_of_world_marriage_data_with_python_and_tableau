{
 "cells": [
  {
   "cell_type": "markdown",
   "id": "2d05bbab",
   "metadata": {},
   "source": [
    "# 1.D. Preparing and Cleaning CURRENTLY MARRIED"
   ]
  },
  {
   "cell_type": "markdown",
   "id": "df4a1d35",
   "metadata": {},
   "source": [
    "### 0. List of Contents\n",
    "#### 1. Importing Libraries and Dataframes\n",
    "#### 2. Exploring Data Set\n",
    "#### 3. Data Wrangling\n",
    "#### 4. Data consistency Checks"
   ]
  },
  {
   "cell_type": "markdown",
   "id": "19c5732b",
   "metadata": {},
   "source": [
    "### 1. Importing Libraries and Dataframes"
   ]
  },
  {
   "cell_type": "code",
   "execution_count": 1,
   "id": "52e9a924",
   "metadata": {},
   "outputs": [],
   "source": [
    "#import libraries\n",
    "import pandas as pd\n",
    "import numpy as np\n",
    "import os"
   ]
  },
  {
   "cell_type": "code",
   "execution_count": 2,
   "id": "429f07fa",
   "metadata": {},
   "outputs": [],
   "source": [
    "# Creating path\n",
    "path=r'/Users/fru.s/Documents/CF - Data Analytics/2.6. Sourcing Open Data/Open Source Data Analysis/02 Data/Prepared Data/'"
   ]
  },
  {
   "cell_type": "code",
   "execution_count": 3,
   "id": "15a8eb99",
   "metadata": {},
   "outputs": [],
   "source": [
    "#importing dataframe\n",
    "cm=pd.read_excel(os.path.join(path,'CURRENTLY MARRIED.xlsx'),sheet_name='CURRENTLY MARRIED')"
   ]
  },
  {
   "cell_type": "code",
   "execution_count": 4,
   "id": "94999cf7",
   "metadata": {},
   "outputs": [
    {
     "data": {
      "text/html": [
       "<div>\n",
       "<style scoped>\n",
       "    .dataframe tbody tr th:only-of-type {\n",
       "        vertical-align: middle;\n",
       "    }\n",
       "\n",
       "    .dataframe tbody tr th {\n",
       "        vertical-align: top;\n",
       "    }\n",
       "\n",
       "    .dataframe thead th {\n",
       "        text-align: right;\n",
       "    }\n",
       "</style>\n",
       "<table border=\"1\" class=\"dataframe\">\n",
       "  <thead>\n",
       "    <tr style=\"text-align: right;\">\n",
       "      <th></th>\n",
       "      <th>Country or area</th>\n",
       "      <th>ISO code</th>\n",
       "      <th>YearStart</th>\n",
       "      <th>YearEnd</th>\n",
       "      <th>Sex</th>\n",
       "      <th>AgeGroup</th>\n",
       "      <th>AgeStart</th>\n",
       "      <th>AgeEnd</th>\n",
       "      <th>DataValue</th>\n",
       "      <th>DataProcess</th>\n",
       "      <th>DataCatalog ShortName</th>\n",
       "      <th>DataCatalog ID</th>\n",
       "      <th>DataCatalog LongName</th>\n",
       "      <th>Data Source</th>\n",
       "      <th>Including_consensual_unions</th>\n",
       "      <th>Note on Data</th>\n",
       "      <th>Note on Country and Population</th>\n",
       "      <th>Region Name</th>\n",
       "      <th>Sub-region Name</th>\n",
       "    </tr>\n",
       "  </thead>\n",
       "  <tbody>\n",
       "    <tr>\n",
       "      <th>0</th>\n",
       "      <td>Afghanistan</td>\n",
       "      <td>4</td>\n",
       "      <td>1972</td>\n",
       "      <td>1974</td>\n",
       "      <td>Men</td>\n",
       "      <td>[15-19]</td>\n",
       "      <td>15</td>\n",
       "      <td>19</td>\n",
       "      <td>7.6</td>\n",
       "      <td>Survey</td>\n",
       "      <td>1972-1974 NDFGS</td>\n",
       "      <td>160</td>\n",
       "      <td>Afghanistan 1972-1974 National Demographic and...</td>\n",
       "      <td>National statistics</td>\n",
       "      <td>NaN</td>\n",
       "      <td>NaN</td>\n",
       "      <td>NaN</td>\n",
       "      <td>Asia</td>\n",
       "      <td>Southern Asia</td>\n",
       "    </tr>\n",
       "    <tr>\n",
       "      <th>1</th>\n",
       "      <td>Afghanistan</td>\n",
       "      <td>4</td>\n",
       "      <td>1972</td>\n",
       "      <td>1974</td>\n",
       "      <td>Men</td>\n",
       "      <td>[20-24]</td>\n",
       "      <td>20</td>\n",
       "      <td>24</td>\n",
       "      <td>31.9</td>\n",
       "      <td>Survey</td>\n",
       "      <td>1972-1974 NDFGS</td>\n",
       "      <td>160</td>\n",
       "      <td>Afghanistan 1972-1974 National Demographic and...</td>\n",
       "      <td>National statistics</td>\n",
       "      <td>NaN</td>\n",
       "      <td>NaN</td>\n",
       "      <td>NaN</td>\n",
       "      <td>Asia</td>\n",
       "      <td>Southern Asia</td>\n",
       "    </tr>\n",
       "    <tr>\n",
       "      <th>2</th>\n",
       "      <td>Afghanistan</td>\n",
       "      <td>4</td>\n",
       "      <td>1972</td>\n",
       "      <td>1974</td>\n",
       "      <td>Men</td>\n",
       "      <td>[25-29]</td>\n",
       "      <td>25</td>\n",
       "      <td>29</td>\n",
       "      <td>59.1</td>\n",
       "      <td>Survey</td>\n",
       "      <td>1972-1974 NDFGS</td>\n",
       "      <td>160</td>\n",
       "      <td>Afghanistan 1972-1974 National Demographic and...</td>\n",
       "      <td>National statistics</td>\n",
       "      <td>NaN</td>\n",
       "      <td>NaN</td>\n",
       "      <td>NaN</td>\n",
       "      <td>Asia</td>\n",
       "      <td>Southern Asia</td>\n",
       "    </tr>\n",
       "    <tr>\n",
       "      <th>3</th>\n",
       "      <td>Afghanistan</td>\n",
       "      <td>4</td>\n",
       "      <td>1972</td>\n",
       "      <td>1974</td>\n",
       "      <td>Men</td>\n",
       "      <td>[30-34]</td>\n",
       "      <td>30</td>\n",
       "      <td>34</td>\n",
       "      <td>78.9</td>\n",
       "      <td>Survey</td>\n",
       "      <td>1972-1974 NDFGS</td>\n",
       "      <td>160</td>\n",
       "      <td>Afghanistan 1972-1974 National Demographic and...</td>\n",
       "      <td>National statistics</td>\n",
       "      <td>NaN</td>\n",
       "      <td>NaN</td>\n",
       "      <td>NaN</td>\n",
       "      <td>Asia</td>\n",
       "      <td>Southern Asia</td>\n",
       "    </tr>\n",
       "    <tr>\n",
       "      <th>4</th>\n",
       "      <td>Afghanistan</td>\n",
       "      <td>4</td>\n",
       "      <td>1972</td>\n",
       "      <td>1974</td>\n",
       "      <td>Men</td>\n",
       "      <td>[35-39]</td>\n",
       "      <td>35</td>\n",
       "      <td>39</td>\n",
       "      <td>87.2</td>\n",
       "      <td>Survey</td>\n",
       "      <td>1972-1974 NDFGS</td>\n",
       "      <td>160</td>\n",
       "      <td>Afghanistan 1972-1974 National Demographic and...</td>\n",
       "      <td>National statistics</td>\n",
       "      <td>NaN</td>\n",
       "      <td>NaN</td>\n",
       "      <td>NaN</td>\n",
       "      <td>Asia</td>\n",
       "      <td>Southern Asia</td>\n",
       "    </tr>\n",
       "  </tbody>\n",
       "</table>\n",
       "</div>"
      ],
      "text/plain": [
       "  Country or area  ISO code  YearStart  YearEnd  Sex AgeGroup  AgeStart  \\\n",
       "0     Afghanistan         4       1972     1974  Men  [15-19]        15   \n",
       "1     Afghanistan         4       1972     1974  Men  [20-24]        20   \n",
       "2     Afghanistan         4       1972     1974  Men  [25-29]        25   \n",
       "3     Afghanistan         4       1972     1974  Men  [30-34]        30   \n",
       "4     Afghanistan         4       1972     1974  Men  [35-39]        35   \n",
       "\n",
       "   AgeEnd  DataValue DataProcess DataCatalog ShortName  DataCatalog ID  \\\n",
       "0      19        7.6      Survey       1972-1974 NDFGS             160   \n",
       "1      24       31.9      Survey       1972-1974 NDFGS             160   \n",
       "2      29       59.1      Survey       1972-1974 NDFGS             160   \n",
       "3      34       78.9      Survey       1972-1974 NDFGS             160   \n",
       "4      39       87.2      Survey       1972-1974 NDFGS             160   \n",
       "\n",
       "                                DataCatalog LongName          Data Source  \\\n",
       "0  Afghanistan 1972-1974 National Demographic and...  National statistics   \n",
       "1  Afghanistan 1972-1974 National Demographic and...  National statistics   \n",
       "2  Afghanistan 1972-1974 National Demographic and...  National statistics   \n",
       "3  Afghanistan 1972-1974 National Demographic and...  National statistics   \n",
       "4  Afghanistan 1972-1974 National Demographic and...  National statistics   \n",
       "\n",
       "   Including_consensual_unions Note on Data Note on Country and Population  \\\n",
       "0                          NaN          NaN                            NaN   \n",
       "1                          NaN          NaN                            NaN   \n",
       "2                          NaN          NaN                            NaN   \n",
       "3                          NaN          NaN                            NaN   \n",
       "4                          NaN          NaN                            NaN   \n",
       "\n",
       "  Region Name Sub-region Name  \n",
       "0        Asia   Southern Asia  \n",
       "1        Asia   Southern Asia  \n",
       "2        Asia   Southern Asia  \n",
       "3        Asia   Southern Asia  \n",
       "4        Asia   Southern Asia  "
      ]
     },
     "execution_count": 4,
     "metadata": {},
     "output_type": "execute_result"
    }
   ],
   "source": [
    "#printing first 5 rows of df to cross check\n",
    "cm.head()"
   ]
  },
  {
   "cell_type": "markdown",
   "id": "a63f17bd",
   "metadata": {},
   "source": [
    "### 2. Exploring Data Set"
   ]
  },
  {
   "cell_type": "code",
   "execution_count": 5,
   "id": "39f46d39",
   "metadata": {},
   "outputs": [
    {
     "data": {
      "text/plain": [
       "Index(['Country or area', 'ISO code', 'YearStart', 'YearEnd', 'Sex',\n",
       "       'AgeGroup', 'AgeStart', 'AgeEnd', 'DataValue', 'DataProcess',\n",
       "       'DataCatalog ShortName', 'DataCatalog ID', 'DataCatalog LongName',\n",
       "       'Data Source', 'Including_consensual_unions', 'Note on Data',\n",
       "       'Note on Country and Population', 'Region Name', 'Sub-region Name'],\n",
       "      dtype='object')"
      ]
     },
     "execution_count": 5,
     "metadata": {},
     "output_type": "execute_result"
    }
   ],
   "source": [
    "#Print the names of the columns\n",
    "cm.columns"
   ]
  },
  {
   "cell_type": "code",
   "execution_count": 6,
   "id": "8ff8095a",
   "metadata": {},
   "outputs": [
    {
     "name": "stdout",
     "output_type": "stream",
     "text": [
      "<class 'pandas.core.frame.DataFrame'>\n",
      "RangeIndex: 53721 entries, 0 to 53720\n",
      "Data columns (total 19 columns):\n",
      " #   Column                          Non-Null Count  Dtype  \n",
      "---  ------                          --------------  -----  \n",
      " 0   Country or area                 53721 non-null  object \n",
      " 1   ISO code                        53721 non-null  int64  \n",
      " 2   YearStart                       53721 non-null  int64  \n",
      " 3   YearEnd                         53721 non-null  int64  \n",
      " 4   Sex                             53721 non-null  object \n",
      " 5   AgeGroup                        53721 non-null  object \n",
      " 6   AgeStart                        53721 non-null  int64  \n",
      " 7   AgeEnd                          53721 non-null  int64  \n",
      " 8   DataValue                       53721 non-null  float64\n",
      " 9   DataProcess                     53721 non-null  object \n",
      " 10  DataCatalog ShortName           53721 non-null  object \n",
      " 11  DataCatalog ID                  53721 non-null  int64  \n",
      " 12  DataCatalog LongName            53721 non-null  object \n",
      " 13  Data Source                     53721 non-null  object \n",
      " 14  Including_consensual_unions     18112 non-null  float64\n",
      " 15  Note on Data                    3712 non-null   object \n",
      " 16  Note on Country and Population  6571 non-null   object \n",
      " 17  Region Name                     53721 non-null  object \n",
      " 18  Sub-region Name                 53721 non-null  object \n",
      "dtypes: float64(2), int64(6), object(11)\n",
      "memory usage: 7.8+ MB\n"
     ]
    }
   ],
   "source": [
    "cm.info()"
   ]
  },
  {
   "cell_type": "markdown",
   "id": "9037f262",
   "metadata": {},
   "source": [
    "### 3. Data Wrangling"
   ]
  },
  {
   "cell_type": "markdown",
   "id": "a54edc8a",
   "metadata": {},
   "source": [
    "#### There are columns that can be dropped\n",
    "#### ISO code\n",
    "#### AgeStart                               \n",
    "#### AgeEnd\n",
    "#### Data Process\n",
    "#### DataCatalog ShortName\n",
    "#### DataCatalog ID\n",
    "#### DataCatalog LongName\n",
    "#### Including_consensual_unions              \n",
    "####  Note on Data                            \n",
    "####  Note on Country and Population          "
   ]
  },
  {
   "cell_type": "code",
   "execution_count": 7,
   "id": "0c3c91ac",
   "metadata": {},
   "outputs": [],
   "source": [
    "#dropping columns\n",
    "cm=cm.drop(columns=['ISO code','AgeStart','AgeEnd','DataProcess','DataCatalog ShortName', 'DataCatalog ID','DataCatalog LongName','Including_consensual_unions','Note on Data','Note on Country and Population'])"
   ]
  },
  {
   "cell_type": "markdown",
   "id": "1a4d5592",
   "metadata": {},
   "source": [
    "### 4. Data consistency Checks"
   ]
  },
  {
   "cell_type": "code",
   "execution_count": 8,
   "id": "9b745d61",
   "metadata": {},
   "outputs": [],
   "source": [
    "#Based on info there shouldn't be any mixed type columnm, but it is better to double check\n",
    "for col in cm.columns.tolist():\n",
    "  weird = (cm[[col]].applymap(type) != cm[[col]].iloc[0].apply(type)).any(axis = 1)\n",
    "  if len (cm[weird]) > 0:\n",
    "    print (col)"
   ]
  },
  {
   "cell_type": "markdown",
   "id": "48736002",
   "metadata": {},
   "source": [
    "#### Indeed no mixed column"
   ]
  },
  {
   "cell_type": "code",
   "execution_count": 9,
   "id": "fde35767",
   "metadata": {},
   "outputs": [
    {
     "data": {
      "text/plain": [
       "Country or area    0\n",
       "YearStart          0\n",
       "YearEnd            0\n",
       "Sex                0\n",
       "AgeGroup           0\n",
       "DataValue          0\n",
       "Data Source        0\n",
       "Region Name        0\n",
       "Sub-region Name    0\n",
       "dtype: int64"
      ]
     },
     "execution_count": 9,
     "metadata": {},
     "output_type": "execute_result"
    }
   ],
   "source": [
    "#Checking on missing values\n",
    "cm.isnull().sum()"
   ]
  },
  {
   "cell_type": "markdown",
   "id": "40b9f499",
   "metadata": {},
   "source": [
    "#### There are no missing values"
   ]
  },
  {
   "cell_type": "code",
   "execution_count": 10,
   "id": "edc15fdd",
   "metadata": {},
   "outputs": [],
   "source": [
    "# Looking for duplicates\n",
    "cm_dups = cm[cm.duplicated()]"
   ]
  },
  {
   "cell_type": "code",
   "execution_count": 11,
   "id": "45147b29",
   "metadata": {},
   "outputs": [
    {
     "data": {
      "text/html": [
       "<div>\n",
       "<style scoped>\n",
       "    .dataframe tbody tr th:only-of-type {\n",
       "        vertical-align: middle;\n",
       "    }\n",
       "\n",
       "    .dataframe tbody tr th {\n",
       "        vertical-align: top;\n",
       "    }\n",
       "\n",
       "    .dataframe thead th {\n",
       "        text-align: right;\n",
       "    }\n",
       "</style>\n",
       "<table border=\"1\" class=\"dataframe\">\n",
       "  <thead>\n",
       "    <tr style=\"text-align: right;\">\n",
       "      <th></th>\n",
       "      <th>Country or area</th>\n",
       "      <th>YearStart</th>\n",
       "      <th>YearEnd</th>\n",
       "      <th>Sex</th>\n",
       "      <th>AgeGroup</th>\n",
       "      <th>DataValue</th>\n",
       "      <th>Data Source</th>\n",
       "      <th>Region Name</th>\n",
       "      <th>Sub-region Name</th>\n",
       "    </tr>\n",
       "  </thead>\n",
       "  <tbody>\n",
       "    <tr>\n",
       "      <th>1905</th>\n",
       "      <td>Austria</td>\n",
       "      <td>1981</td>\n",
       "      <td>1981</td>\n",
       "      <td>Men</td>\n",
       "      <td>[10-14]</td>\n",
       "      <td>0.00</td>\n",
       "      <td>UNSD</td>\n",
       "      <td>Europe</td>\n",
       "      <td>Western Europe</td>\n",
       "    </tr>\n",
       "    <tr>\n",
       "      <th>1919</th>\n",
       "      <td>Austria</td>\n",
       "      <td>1981</td>\n",
       "      <td>1981</td>\n",
       "      <td>Women</td>\n",
       "      <td>[10-14]</td>\n",
       "      <td>0.00</td>\n",
       "      <td>UNSD</td>\n",
       "      <td>Europe</td>\n",
       "      <td>Western Europe</td>\n",
       "    </tr>\n",
       "    <tr>\n",
       "      <th>10453</th>\n",
       "      <td>Czechia</td>\n",
       "      <td>1991</td>\n",
       "      <td>1991</td>\n",
       "      <td>Men</td>\n",
       "      <td>[10-14]</td>\n",
       "      <td>0.00</td>\n",
       "      <td>UNSD</td>\n",
       "      <td>Europe</td>\n",
       "      <td>Eastern Europe</td>\n",
       "    </tr>\n",
       "    <tr>\n",
       "      <th>10467</th>\n",
       "      <td>Czechia</td>\n",
       "      <td>1991</td>\n",
       "      <td>1991</td>\n",
       "      <td>Women</td>\n",
       "      <td>[10-14]</td>\n",
       "      <td>0.00</td>\n",
       "      <td>UNSD</td>\n",
       "      <td>Europe</td>\n",
       "      <td>Eastern Europe</td>\n",
       "    </tr>\n",
       "    <tr>\n",
       "      <th>11297</th>\n",
       "      <td>Denmark</td>\n",
       "      <td>1970</td>\n",
       "      <td>1970</td>\n",
       "      <td>Men</td>\n",
       "      <td>[10-14]</td>\n",
       "      <td>0.00</td>\n",
       "      <td>UNSD</td>\n",
       "      <td>Europe</td>\n",
       "      <td>Northern Europe</td>\n",
       "    </tr>\n",
       "    <tr>\n",
       "      <th>...</th>\n",
       "      <td>...</td>\n",
       "      <td>...</td>\n",
       "      <td>...</td>\n",
       "      <td>...</td>\n",
       "      <td>...</td>\n",
       "      <td>...</td>\n",
       "      <td>...</td>\n",
       "      <td>...</td>\n",
       "      <td>...</td>\n",
       "    </tr>\n",
       "    <tr>\n",
       "      <th>47393</th>\n",
       "      <td>Sweden</td>\n",
       "      <td>2011</td>\n",
       "      <td>2011</td>\n",
       "      <td>Women</td>\n",
       "      <td>[70-74]</td>\n",
       "      <td>53.36</td>\n",
       "      <td>UNSD</td>\n",
       "      <td>Europe</td>\n",
       "      <td>Northern Europe</td>\n",
       "    </tr>\n",
       "    <tr>\n",
       "      <th>47759</th>\n",
       "      <td>Switzerland</td>\n",
       "      <td>1990</td>\n",
       "      <td>1990</td>\n",
       "      <td>Men</td>\n",
       "      <td>[10-14]</td>\n",
       "      <td>0.00</td>\n",
       "      <td>UNSD</td>\n",
       "      <td>Europe</td>\n",
       "      <td>Western Europe</td>\n",
       "    </tr>\n",
       "    <tr>\n",
       "      <th>47773</th>\n",
       "      <td>Switzerland</td>\n",
       "      <td>1990</td>\n",
       "      <td>1990</td>\n",
       "      <td>Women</td>\n",
       "      <td>[10-14]</td>\n",
       "      <td>0.00</td>\n",
       "      <td>UNSD</td>\n",
       "      <td>Europe</td>\n",
       "      <td>Western Europe</td>\n",
       "    </tr>\n",
       "    <tr>\n",
       "      <th>51211</th>\n",
       "      <td>United Kingdom</td>\n",
       "      <td>1991</td>\n",
       "      <td>1991</td>\n",
       "      <td>Men</td>\n",
       "      <td>[10-14]</td>\n",
       "      <td>0.00</td>\n",
       "      <td>UNSD</td>\n",
       "      <td>Europe</td>\n",
       "      <td>Northern Europe</td>\n",
       "    </tr>\n",
       "    <tr>\n",
       "      <th>51225</th>\n",
       "      <td>United Kingdom</td>\n",
       "      <td>1991</td>\n",
       "      <td>1991</td>\n",
       "      <td>Women</td>\n",
       "      <td>[10-14]</td>\n",
       "      <td>0.00</td>\n",
       "      <td>UNSD</td>\n",
       "      <td>Europe</td>\n",
       "      <td>Northern Europe</td>\n",
       "    </tr>\n",
       "  </tbody>\n",
       "</table>\n",
       "<p>75 rows × 9 columns</p>\n",
       "</div>"
      ],
      "text/plain": [
       "      Country or area  YearStart  YearEnd    Sex AgeGroup  DataValue  \\\n",
       "1905          Austria       1981     1981    Men  [10-14]       0.00   \n",
       "1919          Austria       1981     1981  Women  [10-14]       0.00   \n",
       "10453         Czechia       1991     1991    Men  [10-14]       0.00   \n",
       "10467         Czechia       1991     1991  Women  [10-14]       0.00   \n",
       "11297         Denmark       1970     1970    Men  [10-14]       0.00   \n",
       "...               ...        ...      ...    ...      ...        ...   \n",
       "47393          Sweden       2011     2011  Women  [70-74]      53.36   \n",
       "47759     Switzerland       1990     1990    Men  [10-14]       0.00   \n",
       "47773     Switzerland       1990     1990  Women  [10-14]       0.00   \n",
       "51211  United Kingdom       1991     1991    Men  [10-14]       0.00   \n",
       "51225  United Kingdom       1991     1991  Women  [10-14]       0.00   \n",
       "\n",
       "      Data Source Region Name  Sub-region Name  \n",
       "1905         UNSD      Europe   Western Europe  \n",
       "1919         UNSD      Europe   Western Europe  \n",
       "10453        UNSD      Europe   Eastern Europe  \n",
       "10467        UNSD      Europe   Eastern Europe  \n",
       "11297        UNSD      Europe  Northern Europe  \n",
       "...           ...         ...              ...  \n",
       "47393        UNSD      Europe  Northern Europe  \n",
       "47759        UNSD      Europe   Western Europe  \n",
       "47773        UNSD      Europe   Western Europe  \n",
       "51211        UNSD      Europe  Northern Europe  \n",
       "51225        UNSD      Europe  Northern Europe  \n",
       "\n",
       "[75 rows x 9 columns]"
      ]
     },
     "execution_count": 11,
     "metadata": {},
     "output_type": "execute_result"
    }
   ],
   "source": [
    "cm_dups"
   ]
  },
  {
   "cell_type": "markdown",
   "id": "58430425",
   "metadata": {},
   "source": [
    "#### Thes aren't actual dupes"
   ]
  },
  {
   "cell_type": "markdown",
   "id": "9e0b2b7c",
   "metadata": {},
   "source": [
    "### 5. Exporting Data Set as Pickle to Prepare for Combining All Data Sets into One"
   ]
  },
  {
   "cell_type": "code",
   "execution_count": 12,
   "id": "61b6852c",
   "metadata": {},
   "outputs": [],
   "source": [
    "cm.to_pickle(os.path.join(path, 'cm_clean.pkl'))"
   ]
  },
  {
   "cell_type": "code",
   "execution_count": null,
   "id": "e15e2675",
   "metadata": {},
   "outputs": [],
   "source": []
  }
 ],
 "metadata": {
  "kernelspec": {
   "display_name": "Python 3 (ipykernel)",
   "language": "python",
   "name": "python3"
  },
  "language_info": {
   "codemirror_mode": {
    "name": "ipython",
    "version": 3
   },
   "file_extension": ".py",
   "mimetype": "text/x-python",
   "name": "python",
   "nbconvert_exporter": "python",
   "pygments_lexer": "ipython3",
   "version": "3.9.7"
  }
 },
 "nbformat": 4,
 "nbformat_minor": 5
}
