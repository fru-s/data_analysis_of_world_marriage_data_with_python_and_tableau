{
 "cells": [
  {
   "cell_type": "markdown",
   "id": "2d05bbab",
   "metadata": {},
   "source": [
    "# 1.C. Preparing and Cleaning SMAM"
   ]
  },
  {
   "cell_type": "markdown",
   "id": "df4a1d35",
   "metadata": {},
   "source": [
    "### 0. List of Contents\n",
    "#### 1. Importing Libraries and Dataframes\n",
    "#### 2. Exploring Data Set\n",
    "#### 3. Data Wrangling\n",
    "#### 4. Data consistency Checks"
   ]
  },
  {
   "cell_type": "markdown",
   "id": "19c5732b",
   "metadata": {},
   "source": [
    "### 1. Importing Libraries and Dataframes"
   ]
  },
  {
   "cell_type": "code",
   "execution_count": 1,
   "id": "52e9a924",
   "metadata": {},
   "outputs": [],
   "source": [
    "#import libraries\n",
    "import pandas as pd\n",
    "import numpy as np\n",
    "import os"
   ]
  },
  {
   "cell_type": "code",
   "execution_count": 2,
   "id": "429f07fa",
   "metadata": {},
   "outputs": [],
   "source": [
    "# Creating path\n",
    "path=r'/Users/fru.s/Documents/CF - Data Analytics/2.6. Sourcing Open Data/Open Source Data Analysis/02 Data/Prepared Data/'"
   ]
  },
  {
   "cell_type": "code",
   "execution_count": 3,
   "id": "15a8eb99",
   "metadata": {},
   "outputs": [],
   "source": [
    "#importing dataframe\n",
    "smam=pd.read_excel(os.path.join(path,'SMAM.xlsx'),sheet_name='SMAM_update')"
   ]
  },
  {
   "cell_type": "code",
   "execution_count": 5,
   "id": "94999cf7",
   "metadata": {},
   "outputs": [
    {
     "data": {
      "text/html": [
       "<div>\n",
       "<style scoped>\n",
       "    .dataframe tbody tr th:only-of-type {\n",
       "        vertical-align: middle;\n",
       "    }\n",
       "\n",
       "    .dataframe tbody tr th {\n",
       "        vertical-align: top;\n",
       "    }\n",
       "\n",
       "    .dataframe thead th {\n",
       "        text-align: right;\n",
       "    }\n",
       "</style>\n",
       "<table border=\"1\" class=\"dataframe\">\n",
       "  <thead>\n",
       "    <tr style=\"text-align: right;\">\n",
       "      <th></th>\n",
       "      <th>Country or area</th>\n",
       "      <th>YearStart</th>\n",
       "      <th>YearEnd</th>\n",
       "      <th>Sex</th>\n",
       "      <th>Year Start Sex</th>\n",
       "      <th>DataValue_ave</th>\n",
       "      <th>Region Name</th>\n",
       "      <th>Sub-region Name</th>\n",
       "    </tr>\n",
       "  </thead>\n",
       "  <tbody>\n",
       "    <tr>\n",
       "      <th>0</th>\n",
       "      <td>Afghanistan</td>\n",
       "      <td>1972</td>\n",
       "      <td>1974</td>\n",
       "      <td>Men</td>\n",
       "      <td>1972 1974 Men</td>\n",
       "      <td>26.0</td>\n",
       "      <td>Asia</td>\n",
       "      <td>Southern Asia</td>\n",
       "    </tr>\n",
       "    <tr>\n",
       "      <th>1</th>\n",
       "      <td>Afghanistan</td>\n",
       "      <td>1979</td>\n",
       "      <td>1979</td>\n",
       "      <td>Men</td>\n",
       "      <td>1979 1979 Men</td>\n",
       "      <td>25.3</td>\n",
       "      <td>Asia</td>\n",
       "      <td>Southern Asia</td>\n",
       "    </tr>\n",
       "    <tr>\n",
       "      <th>2</th>\n",
       "      <td>Afghanistan</td>\n",
       "      <td>2015</td>\n",
       "      <td>2016</td>\n",
       "      <td>Men</td>\n",
       "      <td>2015 2016 Men</td>\n",
       "      <td>24.5</td>\n",
       "      <td>Asia</td>\n",
       "      <td>Southern Asia</td>\n",
       "    </tr>\n",
       "    <tr>\n",
       "      <th>3</th>\n",
       "      <td>Afghanistan</td>\n",
       "      <td>1972</td>\n",
       "      <td>1974</td>\n",
       "      <td>Women</td>\n",
       "      <td>1972 1974 Women</td>\n",
       "      <td>18.1</td>\n",
       "      <td>Asia</td>\n",
       "      <td>Southern Asia</td>\n",
       "    </tr>\n",
       "    <tr>\n",
       "      <th>4</th>\n",
       "      <td>Afghanistan</td>\n",
       "      <td>1979</td>\n",
       "      <td>1979</td>\n",
       "      <td>Women</td>\n",
       "      <td>1979 1979 Women</td>\n",
       "      <td>17.8</td>\n",
       "      <td>Asia</td>\n",
       "      <td>Southern Asia</td>\n",
       "    </tr>\n",
       "  </tbody>\n",
       "</table>\n",
       "</div>"
      ],
      "text/plain": [
       "  Country or area  YearStart  YearEnd    Sex   Year Start Sex  DataValue_ave  \\\n",
       "0     Afghanistan       1972     1974    Men    1972 1974 Men           26.0   \n",
       "1     Afghanistan       1979     1979    Men    1979 1979 Men           25.3   \n",
       "2     Afghanistan       2015     2016    Men    2015 2016 Men           24.5   \n",
       "3     Afghanistan       1972     1974  Women  1972 1974 Women           18.1   \n",
       "4     Afghanistan       1979     1979  Women  1979 1979 Women           17.8   \n",
       "\n",
       "  Region Name Sub-region Name  \n",
       "0        Asia   Southern Asia  \n",
       "1        Asia   Southern Asia  \n",
       "2        Asia   Southern Asia  \n",
       "3        Asia   Southern Asia  \n",
       "4        Asia   Southern Asia  "
      ]
     },
     "execution_count": 5,
     "metadata": {},
     "output_type": "execute_result"
    }
   ],
   "source": [
    "#printing first 5 rows of df to cross check\n",
    "smam.head()"
   ]
  },
  {
   "cell_type": "markdown",
   "id": "a63f17bd",
   "metadata": {},
   "source": [
    "### 2. Exploring Data Set"
   ]
  },
  {
   "cell_type": "code",
   "execution_count": 6,
   "id": "39f46d39",
   "metadata": {},
   "outputs": [
    {
     "data": {
      "text/plain": [
       "Index(['Country or area', 'YearStart', 'YearEnd', 'Sex', 'Year Start Sex',\n",
       "       'DataValue_ave', 'Region Name', 'Sub-region Name'],\n",
       "      dtype='object')"
      ]
     },
     "execution_count": 6,
     "metadata": {},
     "output_type": "execute_result"
    }
   ],
   "source": [
    "#Print the names of the columns\n",
    "smam.columns"
   ]
  },
  {
   "cell_type": "code",
   "execution_count": 7,
   "id": "8ff8095a",
   "metadata": {},
   "outputs": [
    {
     "name": "stdout",
     "output_type": "stream",
     "text": [
      "<class 'pandas.core.frame.DataFrame'>\n",
      "RangeIndex: 4062 entries, 0 to 4061\n",
      "Data columns (total 8 columns):\n",
      " #   Column           Non-Null Count  Dtype  \n",
      "---  ------           --------------  -----  \n",
      " 0   Country or area  4062 non-null   object \n",
      " 1   YearStart        4062 non-null   int64  \n",
      " 2   YearEnd          4062 non-null   int64  \n",
      " 3   Sex              4062 non-null   object \n",
      " 4   Year Start Sex   4062 non-null   object \n",
      " 5   DataValue_ave    4062 non-null   float64\n",
      " 6   Region Name      4062 non-null   object \n",
      " 7   Sub-region Name  4062 non-null   object \n",
      "dtypes: float64(1), int64(2), object(5)\n",
      "memory usage: 254.0+ KB\n"
     ]
    }
   ],
   "source": [
    "smam.info()"
   ]
  },
  {
   "cell_type": "markdown",
   "id": "9037f262",
   "metadata": {},
   "source": [
    "### 3. Data Wrangling"
   ]
  },
  {
   "cell_type": "markdown",
   "id": "cb7f4566",
   "metadata": {},
   "source": [
    "#### Year Start Sex is duplicate column and needs to be dropped"
   ]
  },
  {
   "cell_type": "code",
   "execution_count": 5,
   "id": "008b2b35",
   "metadata": {},
   "outputs": [],
   "source": [
    "smam=smam.drop(columns=['Year Start Sex'])"
   ]
  },
  {
   "cell_type": "code",
   "execution_count": 6,
   "id": "d5b557fd",
   "metadata": {},
   "outputs": [
    {
     "data": {
      "text/html": [
       "<div>\n",
       "<style scoped>\n",
       "    .dataframe tbody tr th:only-of-type {\n",
       "        vertical-align: middle;\n",
       "    }\n",
       "\n",
       "    .dataframe tbody tr th {\n",
       "        vertical-align: top;\n",
       "    }\n",
       "\n",
       "    .dataframe thead th {\n",
       "        text-align: right;\n",
       "    }\n",
       "</style>\n",
       "<table border=\"1\" class=\"dataframe\">\n",
       "  <thead>\n",
       "    <tr style=\"text-align: right;\">\n",
       "      <th></th>\n",
       "      <th>Country or area</th>\n",
       "      <th>YearStart</th>\n",
       "      <th>YearEnd</th>\n",
       "      <th>Sex</th>\n",
       "      <th>DataValue_ave</th>\n",
       "      <th>Region Name</th>\n",
       "      <th>Sub-region Name</th>\n",
       "    </tr>\n",
       "  </thead>\n",
       "  <tbody>\n",
       "    <tr>\n",
       "      <th>0</th>\n",
       "      <td>Afghanistan</td>\n",
       "      <td>1972</td>\n",
       "      <td>1974</td>\n",
       "      <td>Men</td>\n",
       "      <td>26.0</td>\n",
       "      <td>Asia</td>\n",
       "      <td>Southern Asia</td>\n",
       "    </tr>\n",
       "    <tr>\n",
       "      <th>1</th>\n",
       "      <td>Afghanistan</td>\n",
       "      <td>1979</td>\n",
       "      <td>1979</td>\n",
       "      <td>Men</td>\n",
       "      <td>25.3</td>\n",
       "      <td>Asia</td>\n",
       "      <td>Southern Asia</td>\n",
       "    </tr>\n",
       "    <tr>\n",
       "      <th>2</th>\n",
       "      <td>Afghanistan</td>\n",
       "      <td>2015</td>\n",
       "      <td>2016</td>\n",
       "      <td>Men</td>\n",
       "      <td>24.5</td>\n",
       "      <td>Asia</td>\n",
       "      <td>Southern Asia</td>\n",
       "    </tr>\n",
       "    <tr>\n",
       "      <th>3</th>\n",
       "      <td>Afghanistan</td>\n",
       "      <td>1972</td>\n",
       "      <td>1974</td>\n",
       "      <td>Women</td>\n",
       "      <td>18.1</td>\n",
       "      <td>Asia</td>\n",
       "      <td>Southern Asia</td>\n",
       "    </tr>\n",
       "    <tr>\n",
       "      <th>4</th>\n",
       "      <td>Afghanistan</td>\n",
       "      <td>1979</td>\n",
       "      <td>1979</td>\n",
       "      <td>Women</td>\n",
       "      <td>17.8</td>\n",
       "      <td>Asia</td>\n",
       "      <td>Southern Asia</td>\n",
       "    </tr>\n",
       "  </tbody>\n",
       "</table>\n",
       "</div>"
      ],
      "text/plain": [
       "  Country or area  YearStart  YearEnd    Sex  DataValue_ave Region Name  \\\n",
       "0     Afghanistan       1972     1974    Men           26.0        Asia   \n",
       "1     Afghanistan       1979     1979    Men           25.3        Asia   \n",
       "2     Afghanistan       2015     2016    Men           24.5        Asia   \n",
       "3     Afghanistan       1972     1974  Women           18.1        Asia   \n",
       "4     Afghanistan       1979     1979  Women           17.8        Asia   \n",
       "\n",
       "  Sub-region Name  \n",
       "0   Southern Asia  \n",
       "1   Southern Asia  \n",
       "2   Southern Asia  \n",
       "3   Southern Asia  \n",
       "4   Southern Asia  "
      ]
     },
     "execution_count": 6,
     "metadata": {},
     "output_type": "execute_result"
    }
   ],
   "source": [
    "smam.head()"
   ]
  },
  {
   "cell_type": "markdown",
   "id": "1a4d5592",
   "metadata": {},
   "source": [
    "### 4. Data consistency Checks"
   ]
  },
  {
   "cell_type": "code",
   "execution_count": 8,
   "id": "9b745d61",
   "metadata": {},
   "outputs": [],
   "source": [
    "#Need to make sure that DataValue column isn't mixed\n",
    "for col in smam.columns.tolist():\n",
    "  weird = (smam[[col]].applymap(type) != smam[[col]].iloc[0].apply(type)).any(axis = 1)\n",
    "  if len (smam[weird]) > 0:\n",
    "    print (col)"
   ]
  },
  {
   "cell_type": "markdown",
   "id": "48736002",
   "metadata": {},
   "source": [
    "#### No mixed type data either"
   ]
  },
  {
   "cell_type": "code",
   "execution_count": 9,
   "id": "fde35767",
   "metadata": {},
   "outputs": [
    {
     "data": {
      "text/plain": [
       "Country or area    0\n",
       "YearStart          0\n",
       "YearEnd            0\n",
       "Sex                0\n",
       "Year Start Sex     0\n",
       "DataValue_ave      0\n",
       "Region Name        0\n",
       "Sub-region Name    0\n",
       "dtype: int64"
      ]
     },
     "execution_count": 9,
     "metadata": {},
     "output_type": "execute_result"
    }
   ],
   "source": [
    "#Checking on missing values\n",
    "smam.isnull().sum()"
   ]
  },
  {
   "cell_type": "markdown",
   "id": "40b9f499",
   "metadata": {},
   "source": [
    "#### No missing values"
   ]
  },
  {
   "cell_type": "code",
   "execution_count": 10,
   "id": "edc15fdd",
   "metadata": {},
   "outputs": [],
   "source": [
    "# Looking for duplicates\n",
    "smam_dups = smam[smam.duplicated()]"
   ]
  },
  {
   "cell_type": "code",
   "execution_count": 11,
   "id": "45147b29",
   "metadata": {},
   "outputs": [
    {
     "data": {
      "text/html": [
       "<div>\n",
       "<style scoped>\n",
       "    .dataframe tbody tr th:only-of-type {\n",
       "        vertical-align: middle;\n",
       "    }\n",
       "\n",
       "    .dataframe tbody tr th {\n",
       "        vertical-align: top;\n",
       "    }\n",
       "\n",
       "    .dataframe thead th {\n",
       "        text-align: right;\n",
       "    }\n",
       "</style>\n",
       "<table border=\"1\" class=\"dataframe\">\n",
       "  <thead>\n",
       "    <tr style=\"text-align: right;\">\n",
       "      <th></th>\n",
       "      <th>Country or area</th>\n",
       "      <th>YearStart</th>\n",
       "      <th>YearEnd</th>\n",
       "      <th>Sex</th>\n",
       "      <th>Year Start Sex</th>\n",
       "      <th>DataValue_ave</th>\n",
       "      <th>Region Name</th>\n",
       "      <th>Sub-region Name</th>\n",
       "    </tr>\n",
       "  </thead>\n",
       "  <tbody>\n",
       "  </tbody>\n",
       "</table>\n",
       "</div>"
      ],
      "text/plain": [
       "Empty DataFrame\n",
       "Columns: [Country or area, YearStart, YearEnd, Sex, Year Start Sex, DataValue_ave, Region Name, Sub-region Name]\n",
       "Index: []"
      ]
     },
     "execution_count": 11,
     "metadata": {},
     "output_type": "execute_result"
    }
   ],
   "source": [
    "smam_dups"
   ]
  },
  {
   "cell_type": "markdown",
   "id": "9e0b2b7c",
   "metadata": {},
   "source": [
    "### 5. Exporting Data Set as Pickle to Prepare for Combining All Data Sets into One"
   ]
  },
  {
   "cell_type": "code",
   "execution_count": 7,
   "id": "61b6852c",
   "metadata": {},
   "outputs": [],
   "source": [
    "smam.to_pickle(os.path.join(path, 'smam_clean.pkl'))"
   ]
  },
  {
   "cell_type": "code",
   "execution_count": null,
   "id": "e15e2675",
   "metadata": {},
   "outputs": [],
   "source": []
  }
 ],
 "metadata": {
  "kernelspec": {
   "display_name": "Python 3 (ipykernel)",
   "language": "python",
   "name": "python3"
  },
  "language_info": {
   "codemirror_mode": {
    "name": "ipython",
    "version": 3
   },
   "file_extension": ".py",
   "mimetype": "text/x-python",
   "name": "python",
   "nbconvert_exporter": "python",
   "pygments_lexer": "ipython3",
   "version": "3.9.7"
  }
 },
 "nbformat": 4,
 "nbformat_minor": 5
}
