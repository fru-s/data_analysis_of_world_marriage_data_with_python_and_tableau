{
 "cells": [
  {
   "cell_type": "markdown",
   "id": "147e32bf",
   "metadata": {},
   "source": [
    "# 5. Linear Regression Analysis"
   ]
  },
  {
   "cell_type": "markdown",
   "id": "4a6aa2a3",
   "metadata": {},
   "source": [
    "### 0. List of Contents\n",
    "#### 1. Importing Libraries and Dataframes\n",
    "#### 2. Data cleaning\n",
    "#### 3. Data prep for regression analysis\n",
    "#### 4. Regression analysis"
   ]
  },
  {
   "cell_type": "markdown",
   "id": "d888ad3f",
   "metadata": {},
   "source": [
    "#### During my exploratory visual analysis that if I compare proportion of the ever married and currently married people for the same sex, age group, period of time and country) there is a strong positive relationship between those values. This means that if in Afghanistan between 1972 and 1974 for men's age group of 15-19 grows then so is the proportion of currently married people. "
   ]
  },
  {
   "cell_type": "markdown",
   "id": "d290a6e0",
   "metadata": {},
   "source": [
    "### 1. Importing Libraries and Dataframes"
   ]
  },
  {
   "cell_type": "code",
   "execution_count": 1,
   "id": "8d3e4bfd",
   "metadata": {},
   "outputs": [],
   "source": [
    "import pandas as pd\n",
    "import numpy as np\n",
    "import seaborn as sns\n",
    "import matplotlib\n",
    "import matplotlib.pyplot as plt\n",
    "import os\n",
    "import sklearn\n",
    "from sklearn.model_selection import train_test_split \n",
    "from sklearn.linear_model import LinearRegression\n",
    "from sklearn.metrics import mean_squared_error, r2_score"
   ]
  },
  {
   "cell_type": "code",
   "execution_count": 2,
   "id": "e784bcf6",
   "metadata": {},
   "outputs": [],
   "source": [
    "# This option ensures that the graphs you create are displayed within the notebook without the need to \"call\" them specifically.\n",
    "\n",
    "%matplotlib inline"
   ]
  },
  {
   "cell_type": "code",
   "execution_count": 2,
   "id": "587ed99c",
   "metadata": {},
   "outputs": [],
   "source": [
    "# Creating ppath\n",
    "path=r'/Users/fru.s/Documents/CF - Data Analytics/2.6. Sourcing Open Data/Open Source Data Analysis/02 Data/Prepared Data/'"
   ]
  },
  {
   "cell_type": "code",
   "execution_count": 3,
   "id": "1b3bf76b",
   "metadata": {},
   "outputs": [],
   "source": [
    "#importing dataframe\n",
    "ms=pd.read_excel(os.path.join(path,'Tableau DS.xlsx'),sheet_name='SMAM + EM')"
   ]
  },
  {
   "cell_type": "markdown",
   "id": "909a5cc1",
   "metadata": {},
   "source": [
    "### 2. Data Cleaning"
   ]
  },
  {
   "cell_type": "code",
   "execution_count": 4,
   "id": "5311d2bd",
   "metadata": {},
   "outputs": [
    {
     "data": {
      "text/plain": [
       "Index(['Country or area', 'YearStart', 'YearStart decade', 'YearEnd', 'Sex',\n",
       "       'YearStartSex', 'DataValue_ave', 'concat', 'EM 20-64 AVG',\n",
       "       'EM 20-64 Median', 'Region Name', 'Sub-region Name'],\n",
       "      dtype='object')"
      ]
     },
     "execution_count": 4,
     "metadata": {},
     "output_type": "execute_result"
    }
   ],
   "source": [
    "ms.columns"
   ]
  },
  {
   "cell_type": "code",
   "execution_count": 5,
   "id": "37351138",
   "metadata": {},
   "outputs": [
    {
     "data": {
      "text/html": [
       "<div>\n",
       "<style scoped>\n",
       "    .dataframe tbody tr th:only-of-type {\n",
       "        vertical-align: middle;\n",
       "    }\n",
       "\n",
       "    .dataframe tbody tr th {\n",
       "        vertical-align: top;\n",
       "    }\n",
       "\n",
       "    .dataframe thead th {\n",
       "        text-align: right;\n",
       "    }\n",
       "</style>\n",
       "<table border=\"1\" class=\"dataframe\">\n",
       "  <thead>\n",
       "    <tr style=\"text-align: right;\">\n",
       "      <th></th>\n",
       "      <th>Country or area</th>\n",
       "      <th>YearStart</th>\n",
       "      <th>YearStart decade</th>\n",
       "      <th>YearEnd</th>\n",
       "      <th>Sex</th>\n",
       "      <th>YearStartSex</th>\n",
       "      <th>DataValue_ave</th>\n",
       "      <th>concat</th>\n",
       "      <th>EM 20-64 AVG</th>\n",
       "      <th>EM 20-64 Median</th>\n",
       "      <th>Region Name</th>\n",
       "      <th>Sub-region Name</th>\n",
       "    </tr>\n",
       "  </thead>\n",
       "  <tbody>\n",
       "    <tr>\n",
       "      <th>0</th>\n",
       "      <td>Afghanistan</td>\n",
       "      <td>1972</td>\n",
       "      <td>1970</td>\n",
       "      <td>1974</td>\n",
       "      <td>Men</td>\n",
       "      <td>19721974Men</td>\n",
       "      <td>26.0</td>\n",
       "      <td>Afghanistan19721974Men</td>\n",
       "      <td>83.700000</td>\n",
       "      <td>94.10</td>\n",
       "      <td>Asia</td>\n",
       "      <td>Southern Asia</td>\n",
       "    </tr>\n",
       "    <tr>\n",
       "      <th>1</th>\n",
       "      <td>Afghanistan</td>\n",
       "      <td>1979</td>\n",
       "      <td>1970</td>\n",
       "      <td>1979</td>\n",
       "      <td>Men</td>\n",
       "      <td>19791979Men</td>\n",
       "      <td>25.3</td>\n",
       "      <td>Afghanistan19791979Men</td>\n",
       "      <td>84.168889</td>\n",
       "      <td>94.21</td>\n",
       "      <td>Asia</td>\n",
       "      <td>Southern Asia</td>\n",
       "    </tr>\n",
       "    <tr>\n",
       "      <th>2</th>\n",
       "      <td>Afghanistan</td>\n",
       "      <td>2015</td>\n",
       "      <td>2010</td>\n",
       "      <td>2016</td>\n",
       "      <td>Men</td>\n",
       "      <td>20152016Men</td>\n",
       "      <td>24.5</td>\n",
       "      <td>Afghanistan20152016Men</td>\n",
       "      <td>89.133333</td>\n",
       "      <td>99.10</td>\n",
       "      <td>Asia</td>\n",
       "      <td>Southern Asia</td>\n",
       "    </tr>\n",
       "    <tr>\n",
       "      <th>3</th>\n",
       "      <td>Afghanistan</td>\n",
       "      <td>1972</td>\n",
       "      <td>1970</td>\n",
       "      <td>1974</td>\n",
       "      <td>Women</td>\n",
       "      <td>19721974Women</td>\n",
       "      <td>18.1</td>\n",
       "      <td>Afghanistan19721974Women</td>\n",
       "      <td>97.311111</td>\n",
       "      <td>98.50</td>\n",
       "      <td>Asia</td>\n",
       "      <td>Southern Asia</td>\n",
       "    </tr>\n",
       "    <tr>\n",
       "      <th>4</th>\n",
       "      <td>Afghanistan</td>\n",
       "      <td>1979</td>\n",
       "      <td>1970</td>\n",
       "      <td>1979</td>\n",
       "      <td>Women</td>\n",
       "      <td>19791979Women</td>\n",
       "      <td>17.8</td>\n",
       "      <td>Afghanistan19791979Women</td>\n",
       "      <td>97.761111</td>\n",
       "      <td>98.78</td>\n",
       "      <td>Asia</td>\n",
       "      <td>Southern Asia</td>\n",
       "    </tr>\n",
       "    <tr>\n",
       "      <th>5</th>\n",
       "      <td>Afghanistan</td>\n",
       "      <td>2010</td>\n",
       "      <td>2010</td>\n",
       "      <td>2010</td>\n",
       "      <td>Women</td>\n",
       "      <td>20102010Women</td>\n",
       "      <td>21.5</td>\n",
       "      <td>Afghanistan20102010Women</td>\n",
       "      <td>91.666667</td>\n",
       "      <td>97.60</td>\n",
       "      <td>Asia</td>\n",
       "      <td>Southern Asia</td>\n",
       "    </tr>\n",
       "    <tr>\n",
       "      <th>6</th>\n",
       "      <td>Afghanistan</td>\n",
       "      <td>2010</td>\n",
       "      <td>2010</td>\n",
       "      <td>2011</td>\n",
       "      <td>Women</td>\n",
       "      <td>20102011Women</td>\n",
       "      <td>21.2</td>\n",
       "      <td>Afghanistan20102011Women</td>\n",
       "      <td>92.155000</td>\n",
       "      <td>97.82</td>\n",
       "      <td>Asia</td>\n",
       "      <td>Southern Asia</td>\n",
       "    </tr>\n",
       "    <tr>\n",
       "      <th>7</th>\n",
       "      <td>Afghanistan</td>\n",
       "      <td>2015</td>\n",
       "      <td>2010</td>\n",
       "      <td>2016</td>\n",
       "      <td>Women</td>\n",
       "      <td>20152016Women</td>\n",
       "      <td>21.4</td>\n",
       "      <td>Afghanistan20152016Women</td>\n",
       "      <td>94.797778</td>\n",
       "      <td>99.67</td>\n",
       "      <td>Asia</td>\n",
       "      <td>Southern Asia</td>\n",
       "    </tr>\n",
       "    <tr>\n",
       "      <th>8</th>\n",
       "      <td>Albania</td>\n",
       "      <td>1989</td>\n",
       "      <td>1980</td>\n",
       "      <td>1989</td>\n",
       "      <td>Men</td>\n",
       "      <td>19891989Men</td>\n",
       "      <td>27.0</td>\n",
       "      <td>Albania19891989Men</td>\n",
       "      <td>81.607778</td>\n",
       "      <td>96.50</td>\n",
       "      <td>Europe</td>\n",
       "      <td>Southern Europe</td>\n",
       "    </tr>\n",
       "    <tr>\n",
       "      <th>9</th>\n",
       "      <td>Albania</td>\n",
       "      <td>2000</td>\n",
       "      <td>2000</td>\n",
       "      <td>2000</td>\n",
       "      <td>Men</td>\n",
       "      <td>20002000Men</td>\n",
       "      <td>28.5</td>\n",
       "      <td>Albania20002000Men</td>\n",
       "      <td>80.134444</td>\n",
       "      <td>97.52</td>\n",
       "      <td>Europe</td>\n",
       "      <td>Southern Europe</td>\n",
       "    </tr>\n",
       "  </tbody>\n",
       "</table>\n",
       "</div>"
      ],
      "text/plain": [
       "  Country or area  YearStart  YearStart decade  YearEnd    Sex   YearStartSex  \\\n",
       "0     Afghanistan       1972              1970     1974    Men    19721974Men   \n",
       "1     Afghanistan       1979              1970     1979    Men    19791979Men   \n",
       "2     Afghanistan       2015              2010     2016    Men    20152016Men   \n",
       "3     Afghanistan       1972              1970     1974  Women  19721974Women   \n",
       "4     Afghanistan       1979              1970     1979  Women  19791979Women   \n",
       "5     Afghanistan       2010              2010     2010  Women  20102010Women   \n",
       "6     Afghanistan       2010              2010     2011  Women  20102011Women   \n",
       "7     Afghanistan       2015              2010     2016  Women  20152016Women   \n",
       "8         Albania       1989              1980     1989    Men    19891989Men   \n",
       "9         Albania       2000              2000     2000    Men    20002000Men   \n",
       "\n",
       "   DataValue_ave                    concat  EM 20-64 AVG  EM 20-64 Median  \\\n",
       "0           26.0    Afghanistan19721974Men     83.700000            94.10   \n",
       "1           25.3    Afghanistan19791979Men     84.168889            94.21   \n",
       "2           24.5    Afghanistan20152016Men     89.133333            99.10   \n",
       "3           18.1  Afghanistan19721974Women     97.311111            98.50   \n",
       "4           17.8  Afghanistan19791979Women     97.761111            98.78   \n",
       "5           21.5  Afghanistan20102010Women     91.666667            97.60   \n",
       "6           21.2  Afghanistan20102011Women     92.155000            97.82   \n",
       "7           21.4  Afghanistan20152016Women     94.797778            99.67   \n",
       "8           27.0        Albania19891989Men     81.607778            96.50   \n",
       "9           28.5        Albania20002000Men     80.134444            97.52   \n",
       "\n",
       "  Region Name  Sub-region Name  \n",
       "0        Asia    Southern Asia  \n",
       "1        Asia    Southern Asia  \n",
       "2        Asia    Southern Asia  \n",
       "3        Asia    Southern Asia  \n",
       "4        Asia    Southern Asia  \n",
       "5        Asia    Southern Asia  \n",
       "6        Asia    Southern Asia  \n",
       "7        Asia    Southern Asia  \n",
       "8      Europe  Southern Europe  \n",
       "9      Europe  Southern Europe  "
      ]
     },
     "execution_count": 5,
     "metadata": {},
     "output_type": "execute_result"
    }
   ],
   "source": [
    "ms.head(10)"
   ]
  },
  {
   "cell_type": "code",
   "execution_count": 6,
   "id": "55705a60",
   "metadata": {},
   "outputs": [
    {
     "data": {
      "text/plain": [
       "(4062, 12)"
      ]
     },
     "execution_count": 6,
     "metadata": {},
     "output_type": "execute_result"
    }
   ],
   "source": [
    "ms.shape"
   ]
  },
  {
   "cell_type": "code",
   "execution_count": 7,
   "id": "2cf97462",
   "metadata": {},
   "outputs": [
    {
     "data": {
      "text/plain": [
       "Country or area       0\n",
       "YearStart             0\n",
       "YearStart decade      0\n",
       "YearEnd               0\n",
       "Sex                   0\n",
       "YearStartSex          0\n",
       "DataValue_ave         0\n",
       "concat                0\n",
       "EM 20-64 AVG        299\n",
       "EM 20-64 Median     299\n",
       "Region Name          47\n",
       "Sub-region Name      47\n",
       "dtype: int64"
      ]
     },
     "execution_count": 7,
     "metadata": {},
     "output_type": "execute_result"
    }
   ],
   "source": [
    "# Check for missing values\n",
    "ms.isnull().sum()"
   ]
  },
  {
   "cell_type": "code",
   "execution_count": 8,
   "id": "3e11b212",
   "metadata": {},
   "outputs": [],
   "source": [
    "ms.dropna(inplace = True)"
   ]
  },
  {
   "cell_type": "code",
   "execution_count": 9,
   "id": "5848af94",
   "metadata": {},
   "outputs": [],
   "source": [
    "dups = ms[ms.duplicated()]"
   ]
  },
  {
   "cell_type": "code",
   "execution_count": 10,
   "id": "2e03b1b5",
   "metadata": {},
   "outputs": [
    {
     "data": {
      "text/html": [
       "<div>\n",
       "<style scoped>\n",
       "    .dataframe tbody tr th:only-of-type {\n",
       "        vertical-align: middle;\n",
       "    }\n",
       "\n",
       "    .dataframe tbody tr th {\n",
       "        vertical-align: top;\n",
       "    }\n",
       "\n",
       "    .dataframe thead th {\n",
       "        text-align: right;\n",
       "    }\n",
       "</style>\n",
       "<table border=\"1\" class=\"dataframe\">\n",
       "  <thead>\n",
       "    <tr style=\"text-align: right;\">\n",
       "      <th></th>\n",
       "      <th>Country or area</th>\n",
       "      <th>YearStart</th>\n",
       "      <th>YearStart decade</th>\n",
       "      <th>YearEnd</th>\n",
       "      <th>Sex</th>\n",
       "      <th>YearStartSex</th>\n",
       "      <th>DataValue_ave</th>\n",
       "      <th>concat</th>\n",
       "      <th>EM 20-64 AVG</th>\n",
       "      <th>EM 20-64 Median</th>\n",
       "      <th>Region Name</th>\n",
       "      <th>Sub-region Name</th>\n",
       "    </tr>\n",
       "  </thead>\n",
       "  <tbody>\n",
       "  </tbody>\n",
       "</table>\n",
       "</div>"
      ],
      "text/plain": [
       "Empty DataFrame\n",
       "Columns: [Country or area, YearStart, YearStart decade, YearEnd, Sex, YearStartSex, DataValue_ave, concat, EM 20-64 AVG, EM 20-64 Median, Region Name, Sub-region Name]\n",
       "Index: []"
      ]
     },
     "execution_count": 10,
     "metadata": {},
     "output_type": "execute_result"
    }
   ],
   "source": [
    "dups"
   ]
  },
  {
   "cell_type": "code",
   "execution_count": 11,
   "id": "6366d722",
   "metadata": {},
   "outputs": [
    {
     "data": {
      "text/html": [
       "<div>\n",
       "<style scoped>\n",
       "    .dataframe tbody tr th:only-of-type {\n",
       "        vertical-align: middle;\n",
       "    }\n",
       "\n",
       "    .dataframe tbody tr th {\n",
       "        vertical-align: top;\n",
       "    }\n",
       "\n",
       "    .dataframe thead th {\n",
       "        text-align: right;\n",
       "    }\n",
       "</style>\n",
       "<table border=\"1\" class=\"dataframe\">\n",
       "  <thead>\n",
       "    <tr style=\"text-align: right;\">\n",
       "      <th></th>\n",
       "      <th>YearStart</th>\n",
       "      <th>YearStart decade</th>\n",
       "      <th>YearEnd</th>\n",
       "      <th>DataValue_ave</th>\n",
       "      <th>EM 20-64 AVG</th>\n",
       "      <th>EM 20-64 Median</th>\n",
       "    </tr>\n",
       "  </thead>\n",
       "  <tbody>\n",
       "    <tr>\n",
       "      <th>count</th>\n",
       "      <td>3763.000000</td>\n",
       "      <td>3763.000000</td>\n",
       "      <td>3763.000000</td>\n",
       "      <td>3763.000000</td>\n",
       "      <td>3763.000000</td>\n",
       "      <td>3763.000000</td>\n",
       "    </tr>\n",
       "    <tr>\n",
       "      <th>mean</th>\n",
       "      <td>1997.039065</td>\n",
       "      <td>1993.165028</td>\n",
       "      <td>1997.123572</td>\n",
       "      <td>26.289840</td>\n",
       "      <td>78.290075</td>\n",
       "      <td>87.810170</td>\n",
       "    </tr>\n",
       "    <tr>\n",
       "      <th>std</th>\n",
       "      <td>13.965889</td>\n",
       "      <td>13.818953</td>\n",
       "      <td>13.988428</td>\n",
       "      <td>3.997958</td>\n",
       "      <td>11.495959</td>\n",
       "      <td>10.388437</td>\n",
       "    </tr>\n",
       "    <tr>\n",
       "      <th>min</th>\n",
       "      <td>1960.000000</td>\n",
       "      <td>1960.000000</td>\n",
       "      <td>1960.000000</td>\n",
       "      <td>14.400000</td>\n",
       "      <td>37.027778</td>\n",
       "      <td>39.290000</td>\n",
       "    </tr>\n",
       "    <tr>\n",
       "      <th>25%</th>\n",
       "      <td>1987.000000</td>\n",
       "      <td>1980.000000</td>\n",
       "      <td>1987.000000</td>\n",
       "      <td>23.300000</td>\n",
       "      <td>71.625000</td>\n",
       "      <td>83.955000</td>\n",
       "    </tr>\n",
       "    <tr>\n",
       "      <th>50%</th>\n",
       "      <td>2000.000000</td>\n",
       "      <td>2000.000000</td>\n",
       "      <td>2000.000000</td>\n",
       "      <td>26.100000</td>\n",
       "      <td>80.168889</td>\n",
       "      <td>90.710000</td>\n",
       "    </tr>\n",
       "    <tr>\n",
       "      <th>75%</th>\n",
       "      <td>2009.000000</td>\n",
       "      <td>2000.000000</td>\n",
       "      <td>2009.500000</td>\n",
       "      <td>29.200000</td>\n",
       "      <td>86.433333</td>\n",
       "      <td>95.270000</td>\n",
       "    </tr>\n",
       "    <tr>\n",
       "      <th>max</th>\n",
       "      <td>2019.000000</td>\n",
       "      <td>2010.000000</td>\n",
       "      <td>2019.000000</td>\n",
       "      <td>36.500000</td>\n",
       "      <td>99.950000</td>\n",
       "      <td>100.250000</td>\n",
       "    </tr>\n",
       "  </tbody>\n",
       "</table>\n",
       "</div>"
      ],
      "text/plain": [
       "         YearStart  YearStart decade      YearEnd  DataValue_ave  \\\n",
       "count  3763.000000       3763.000000  3763.000000    3763.000000   \n",
       "mean   1997.039065       1993.165028  1997.123572      26.289840   \n",
       "std      13.965889         13.818953    13.988428       3.997958   \n",
       "min    1960.000000       1960.000000  1960.000000      14.400000   \n",
       "25%    1987.000000       1980.000000  1987.000000      23.300000   \n",
       "50%    2000.000000       2000.000000  2000.000000      26.100000   \n",
       "75%    2009.000000       2000.000000  2009.500000      29.200000   \n",
       "max    2019.000000       2010.000000  2019.000000      36.500000   \n",
       "\n",
       "       EM 20-64 AVG  EM 20-64 Median  \n",
       "count   3763.000000      3763.000000  \n",
       "mean      78.290075        87.810170  \n",
       "std       11.495959        10.388437  \n",
       "min       37.027778        39.290000  \n",
       "25%       71.625000        83.955000  \n",
       "50%       80.168889        90.710000  \n",
       "75%       86.433333        95.270000  \n",
       "max       99.950000       100.250000  "
      ]
     },
     "execution_count": 11,
     "metadata": {},
     "output_type": "execute_result"
    }
   ],
   "source": [
    "ms.describe()"
   ]
  },
  {
   "cell_type": "code",
   "execution_count": 13,
   "id": "8d065aec",
   "metadata": {},
   "outputs": [
    {
     "name": "stderr",
     "output_type": "stream",
     "text": [
      "/Users/fru.s/opt/anaconda3/lib/python3.9/site-packages/seaborn/distributions.py:2619: FutureWarning: `distplot` is a deprecated function and will be removed in a future version. Please adapt your code to use either `displot` (a figure-level function with similar flexibility) or `histplot` (an axes-level function for histograms).\n",
      "  warnings.warn(msg, FutureWarning)\n"
     ]
    },
    {
     "data": {
      "text/plain": [
       "<AxesSubplot:xlabel='EM 20-64 AVG', ylabel='Density'>"
      ]
     },
     "execution_count": 13,
     "metadata": {},
     "output_type": "execute_result"
    },
    {
     "data": {
      "image/png": "[encoded data removed]",
      "text/plain": [
       "<Figure size 432x288 with 1 Axes>"
      ]
     },
     "metadata": {
      "needs_background": "light"
     },
     "output_type": "display_data"
    }
   ],
   "source": [
    "#extreme values check\n",
    "sns.distplot(ms['EM 20-64 AVG'], bins=25)"
   ]
  },
  {
   "cell_type": "markdown",
   "id": "db5c86a8",
   "metadata": {},
   "source": [
    "#### no outliers"
   ]
  },
  {
   "cell_type": "markdown",
   "id": "7eefebcc",
   "metadata": {},
   "source": [
    "### 3. Data prep for regression analysis"
   ]
  },
  {
   "cell_type": "code",
   "execution_count": 14,
   "id": "c8db0a81",
   "metadata": {},
   "outputs": [
    {
     "data": {
      "image/png": "[encoded data removed]",
      "text/plain": [
       "<Figure size 432x288 with 1 Axes>"
      ]
     },
     "metadata": {
      "needs_background": "light"
     },
     "output_type": "display_data"
    }
   ],
   "source": [
    "# Create a scatterplot to check again how the chosen variables plot against each other\n",
    "\n",
    "ms.plot(x = 'EM 20-64 AVG', y='DataValue_ave',style='o') \n",
    "plt.title('EM 20-64 AVG vs smam within same year sex and country')  \n",
    "plt.xlabel('EM 20-64 AVG')  \n",
    "plt.ylabel('smam')  \n",
    "plt.show()"
   ]
  },
  {
   "cell_type": "code",
   "execution_count": 15,
   "id": "dedea91b",
   "metadata": {},
   "outputs": [],
   "source": [
    "# Reshape the variables into NumPy arrays and put them into separate objects\n",
    "\n",
    "X = ms['EM 20-64 AVG'].values.reshape(-1,1)\n",
    "y = ms['DataValue_ave'].values.reshape(-1,1)"
   ]
  },
  {
   "cell_type": "code",
   "execution_count": 16,
   "id": "d06cdf99",
   "metadata": {},
   "outputs": [
    {
     "data": {
      "text/plain": [
       "array([[83.7       ],\n",
       "       [84.16888889],\n",
       "       [89.13333333],\n",
       "       ...,\n",
       "       [92.46333333],\n",
       "       [93.82111111],\n",
       "       [92.47777778]])"
      ]
     },
     "execution_count": 16,
     "metadata": {},
     "output_type": "execute_result"
    }
   ],
   "source": [
    "X"
   ]
  },
  {
   "cell_type": "code",
   "execution_count": 17,
   "id": "26942b99",
   "metadata": {},
   "outputs": [
    {
     "data": {
      "text/plain": [
       "array([[26.  ],\n",
       "       [25.3 ],\n",
       "       [24.5 ],\n",
       "       ...,\n",
       "       [20.3 ],\n",
       "       [20.55],\n",
       "       [21.1 ]])"
      ]
     },
     "execution_count": 17,
     "metadata": {},
     "output_type": "execute_result"
    }
   ],
   "source": [
    "y"
   ]
  },
  {
   "cell_type": "code",
   "execution_count": 18,
   "id": "3ca82296",
   "metadata": {},
   "outputs": [],
   "source": [
    "# Splitting data into a training set and a test set\n",
    "\n",
    "X_train, X_test, y_train, y_test = train_test_split(X, y, test_size=0.3, random_state=0)"
   ]
  },
  {
   "cell_type": "markdown",
   "id": "236de11a",
   "metadata": {},
   "source": [
    "### 4. Regression analysis"
   ]
  },
  {
   "cell_type": "code",
   "execution_count": 19,
   "id": "d379d06c",
   "metadata": {},
   "outputs": [],
   "source": [
    "# Creating a regression object\n",
    "\n",
    "regression = LinearRegression()"
   ]
  },
  {
   "cell_type": "code",
   "execution_count": 20,
   "id": "433a37e1",
   "metadata": {},
   "outputs": [
    {
     "data": {
      "text/plain": [
       "LinearRegression()"
      ]
     },
     "execution_count": 20,
     "metadata": {},
     "output_type": "execute_result"
    }
   ],
   "source": [
    "# Fitting the regression object onto the training set\n",
    "regression.fit(X_train, y_train)"
   ]
  },
  {
   "cell_type": "code",
   "execution_count": 21,
   "id": "26a8bca9",
   "metadata": {},
   "outputs": [],
   "source": [
    "# Predicting the values of y using X\n",
    "y_predicted = regression.predict(X_test)"
   ]
  },
  {
   "cell_type": "code",
   "execution_count": 22,
   "id": "c1eef9fd",
   "metadata": {},
   "outputs": [
    {
     "data": {
      "image/png": "[encoded data removed]",
      "text/plain": [
       "<Figure size 432x288 with 1 Axes>"
      ]
     },
     "metadata": {
      "needs_background": "light"
     },
     "output_type": "display_data"
    }
   ],
   "source": [
    "# Creating a plot that shows the regression line from the model on the test set\n",
    "plot_test = plt\n",
    "plot_test.scatter(X_test, y_test, color='gray', s = 15)\n",
    "plot_test.plot(X_test, y_predicted, color='red', linewidth =3)\n",
    "plot_test.title('EM 20-64 AVG vs smam within same year sex and country (Test set)')\n",
    "plot_test.xlabel('EM 20-64 AVG')\n",
    "plot_test.ylabel('smam')\n",
    "plot_test.show()"
   ]
  },
  {
   "cell_type": "code",
   "execution_count": 23,
   "id": "545ec473",
   "metadata": {},
   "outputs": [],
   "source": [
    "# Creating objects that contain the model summary statistics\n",
    "rmse = mean_squared_error(y_test, y_predicted)\n",
    "r2 = r2_score(y_test, y_predicted)"
   ]
  },
  {
   "cell_type": "code",
   "execution_count": 24,
   "id": "46abd56e",
   "metadata": {},
   "outputs": [
    {
     "name": "stdout",
     "output_type": "stream",
     "text": [
      "Slope: [[-0.30816344]]\n",
      "Mean squared error:  3.3474677790216356\n",
      "R2 score:  0.7826962481834894\n"
     ]
    }
   ],
   "source": [
    "# Printing the model summary statistics\n",
    "print('Slope:' ,regression.coef_)\n",
    "print('Mean squared error: ', rmse)\n",
    "print('R2 score: ', r2)"
   ]
  },
  {
   "cell_type": "markdown",
   "id": "cac0c0e2",
   "metadata": {},
   "source": [
    "#### Slope: we have a negative slope, signifyig a negative relationship between variables\n",
    "#### MSE: is small compared to the data points, it means the points are close to the regression line, this means the regression is an accurate representation of the data\n",
    "#### The R2 score means that 78% sucess rate, which isn't very high though"
   ]
  },
  {
   "cell_type": "code",
   "execution_count": 25,
   "id": "82fa8171",
   "metadata": {},
   "outputs": [
    {
     "data": {
      "text/plain": [
       "array([[22.92976426],\n",
       "       [24.09599167],\n",
       "       [22.20078654],\n",
       "       ...,\n",
       "       [27.85044952],\n",
       "       [31.91067399],\n",
       "       [23.8121389 ]])"
      ]
     },
     "execution_count": 25,
     "metadata": {},
     "output_type": "execute_result"
    }
   ],
   "source": [
    "y_predicted"
   ]
  },
  {
   "cell_type": "code",
   "execution_count": 26,
   "id": "ea7062ac",
   "metadata": {},
   "outputs": [
    {
     "data": {
      "text/html": [
       "<div>\n",
       "<style scoped>\n",
       "    .dataframe tbody tr th:only-of-type {\n",
       "        vertical-align: middle;\n",
       "    }\n",
       "\n",
       "    .dataframe tbody tr th {\n",
       "        vertical-align: top;\n",
       "    }\n",
       "\n",
       "    .dataframe thead th {\n",
       "        text-align: right;\n",
       "    }\n",
       "</style>\n",
       "<table border=\"1\" class=\"dataframe\">\n",
       "  <thead>\n",
       "    <tr style=\"text-align: right;\">\n",
       "      <th></th>\n",
       "      <th>Actual</th>\n",
       "      <th>Predicted</th>\n",
       "    </tr>\n",
       "  </thead>\n",
       "  <tbody>\n",
       "    <tr>\n",
       "      <th>0</th>\n",
       "      <td>23.1</td>\n",
       "      <td>22.929764</td>\n",
       "    </tr>\n",
       "    <tr>\n",
       "      <th>1</th>\n",
       "      <td>23.6</td>\n",
       "      <td>24.095992</td>\n",
       "    </tr>\n",
       "    <tr>\n",
       "      <th>2</th>\n",
       "      <td>21.1</td>\n",
       "      <td>22.200787</td>\n",
       "    </tr>\n",
       "    <tr>\n",
       "      <th>3</th>\n",
       "      <td>24.7</td>\n",
       "      <td>24.446956</td>\n",
       "    </tr>\n",
       "    <tr>\n",
       "      <th>4</th>\n",
       "      <td>21.9</td>\n",
       "      <td>24.345262</td>\n",
       "    </tr>\n",
       "    <tr>\n",
       "      <th>5</th>\n",
       "      <td>22.6</td>\n",
       "      <td>24.118762</td>\n",
       "    </tr>\n",
       "    <tr>\n",
       "      <th>6</th>\n",
       "      <td>22.4</td>\n",
       "      <td>23.753588</td>\n",
       "    </tr>\n",
       "    <tr>\n",
       "      <th>7</th>\n",
       "      <td>22.1</td>\n",
       "      <td>23.022213</td>\n",
       "    </tr>\n",
       "    <tr>\n",
       "      <th>8</th>\n",
       "      <td>22.1</td>\n",
       "      <td>23.788171</td>\n",
       "    </tr>\n",
       "    <tr>\n",
       "      <th>9</th>\n",
       "      <td>33.7</td>\n",
       "      <td>38.769365</td>\n",
       "    </tr>\n",
       "    <tr>\n",
       "      <th>10</th>\n",
       "      <td>25.4</td>\n",
       "      <td>26.714696</td>\n",
       "    </tr>\n",
       "    <tr>\n",
       "      <th>11</th>\n",
       "      <td>21.7</td>\n",
       "      <td>22.358292</td>\n",
       "    </tr>\n",
       "    <tr>\n",
       "      <th>12</th>\n",
       "      <td>34.3</td>\n",
       "      <td>33.545995</td>\n",
       "    </tr>\n",
       "    <tr>\n",
       "      <th>13</th>\n",
       "      <td>25.7</td>\n",
       "      <td>26.086385</td>\n",
       "    </tr>\n",
       "    <tr>\n",
       "      <th>14</th>\n",
       "      <td>19.8</td>\n",
       "      <td>21.779287</td>\n",
       "    </tr>\n",
       "    <tr>\n",
       "      <th>15</th>\n",
       "      <td>24.6</td>\n",
       "      <td>23.936774</td>\n",
       "    </tr>\n",
       "    <tr>\n",
       "      <th>16</th>\n",
       "      <td>22.2</td>\n",
       "      <td>23.741261</td>\n",
       "    </tr>\n",
       "    <tr>\n",
       "      <th>17</th>\n",
       "      <td>24.8</td>\n",
       "      <td>25.260165</td>\n",
       "    </tr>\n",
       "    <tr>\n",
       "      <th>18</th>\n",
       "      <td>29.6</td>\n",
       "      <td>27.970633</td>\n",
       "    </tr>\n",
       "    <tr>\n",
       "      <th>19</th>\n",
       "      <td>30.0</td>\n",
       "      <td>29.022840</td>\n",
       "    </tr>\n",
       "    <tr>\n",
       "      <th>20</th>\n",
       "      <td>30.5</td>\n",
       "      <td>28.810207</td>\n",
       "    </tr>\n",
       "    <tr>\n",
       "      <th>21</th>\n",
       "      <td>30.7</td>\n",
       "      <td>28.337005</td>\n",
       "    </tr>\n",
       "    <tr>\n",
       "      <th>22</th>\n",
       "      <td>26.5</td>\n",
       "      <td>26.053172</td>\n",
       "    </tr>\n",
       "    <tr>\n",
       "      <th>23</th>\n",
       "      <td>25.7</td>\n",
       "      <td>24.036756</td>\n",
       "    </tr>\n",
       "    <tr>\n",
       "      <th>24</th>\n",
       "      <td>32.8</td>\n",
       "      <td>32.144878</td>\n",
       "    </tr>\n",
       "    <tr>\n",
       "      <th>25</th>\n",
       "      <td>33.2</td>\n",
       "      <td>34.909447</td>\n",
       "    </tr>\n",
       "    <tr>\n",
       "      <th>26</th>\n",
       "      <td>32.2</td>\n",
       "      <td>31.384057</td>\n",
       "    </tr>\n",
       "    <tr>\n",
       "      <th>27</th>\n",
       "      <td>23.9</td>\n",
       "      <td>22.780134</td>\n",
       "    </tr>\n",
       "    <tr>\n",
       "      <th>28</th>\n",
       "      <td>29.2</td>\n",
       "      <td>32.019216</td>\n",
       "    </tr>\n",
       "    <tr>\n",
       "      <th>29</th>\n",
       "      <td>19.0</td>\n",
       "      <td>20.993471</td>\n",
       "    </tr>\n",
       "  </tbody>\n",
       "</table>\n",
       "</div>"
      ],
      "text/plain": [
       "    Actual  Predicted\n",
       "0     23.1  22.929764\n",
       "1     23.6  24.095992\n",
       "2     21.1  22.200787\n",
       "3     24.7  24.446956\n",
       "4     21.9  24.345262\n",
       "5     22.6  24.118762\n",
       "6     22.4  23.753588\n",
       "7     22.1  23.022213\n",
       "8     22.1  23.788171\n",
       "9     33.7  38.769365\n",
       "10    25.4  26.714696\n",
       "11    21.7  22.358292\n",
       "12    34.3  33.545995\n",
       "13    25.7  26.086385\n",
       "14    19.8  21.779287\n",
       "15    24.6  23.936774\n",
       "16    22.2  23.741261\n",
       "17    24.8  25.260165\n",
       "18    29.6  27.970633\n",
       "19    30.0  29.022840\n",
       "20    30.5  28.810207\n",
       "21    30.7  28.337005\n",
       "22    26.5  26.053172\n",
       "23    25.7  24.036756\n",
       "24    32.8  32.144878\n",
       "25    33.2  34.909447\n",
       "26    32.2  31.384057\n",
       "27    23.9  22.780134\n",
       "28    29.2  32.019216\n",
       "29    19.0  20.993471"
      ]
     },
     "execution_count": 26,
     "metadata": {},
     "output_type": "execute_result"
    }
   ],
   "source": [
    "# Create a dataframe comparing the actual and predicted values of y\n",
    "data = pd.DataFrame({'Actual': y_test.flatten(), 'Predicted': y_predicted.flatten()})\n",
    "data.head(30)"
   ]
  },
  {
   "cell_type": "markdown",
   "id": "2584afc9",
   "metadata": {},
   "source": [
    "#### Running the regression analysis made me sure that my dataset isn't the best for regression analyis, as it contains data only related to marital status and marriage. My theory is that by running time series anlysis I should discover better insights on global and regional trends"
   ]
  },
  {
   "cell_type": "code",
   "execution_count": null,
   "id": "4ddec847",
   "metadata": {},
   "outputs": [],
   "source": []
  }
 ],
 "metadata": {
  "kernelspec": {
   "display_name": "Python 3 (ipykernel)",
   "language": "python",
   "name": "python3"
  },
  "language_info": {
   "codemirror_mode": {
    "name": "ipython",
    "version": 3
   },
   "file_extension": ".py",
   "mimetype": "text/x-python",
   "name": "python",
   "nbconvert_exporter": "python",
   "pygments_lexer": "ipython3",
   "version": "3.9.7"
  }
 },
 "nbformat": 4,
 "nbformat_minor": 5
}
